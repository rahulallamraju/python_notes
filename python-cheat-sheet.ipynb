{
 "cells": [
  {
   "cell_type": "markdown",
   "id": "1694f84c-54e4-407a-84b1-2f89f718afe0",
   "metadata": {},
   "source": [
    "### 1. Data Types"
   ]
  },
  {
   "cell_type": "code",
   "execution_count": 3,
   "id": "bb7192fb-9397-4eec-a47f-6892adf74542",
   "metadata": {},
   "outputs": [],
   "source": [
    "# numeric data types\n",
    "integer_number = 5\n",
    "float_number = 2.3\n",
    "complex_number = 5 + 3j\n",
    "\n",
    "# string data type\n",
    "text_string = \"Python Practice\"\n",
    "\n",
    "# boolean \n",
    "is_true = True\n",
    "is_false = False\n",
    "\n"
   ]
  },
  {
   "cell_type": "code",
   "execution_count": null,
   "id": "ec937e93-f0ee-49b6-9c8a-c95db09fe6d4",
   "metadata": {},
   "outputs": [],
   "source": [
    "print (f\"{integer_number}, {float_number}, {complex_number}\")\n",
    "print (f\"{text_string}\")\n",
    "print (is_true , is_false)"
   ]
  },
  {
   "cell_type": "markdown",
   "id": "a7b62195-0cc5-4ee4-a2bc-d8e2a0387df9",
   "metadata": {},
   "source": [
    "# 2. Variable Assignment"
   ]
  },
  {
   "cell_type": "code",
   "execution_count": null,
   "id": "24b881aa-b357-410a-a449-954d2b6081e8",
   "metadata": {},
   "outputs": [],
   "source": [
    "text_string = \"Python Practice\"\n",
    "print (text_string)"
   ]
  },
  {
   "cell_type": "markdown",
   "id": "b2ef6c8b-55c4-487a-91c7-ca0ed6393f45",
   "metadata": {},
   "source": [
    "# 3. Lists and Tuples"
   ]
  },
  {
   "cell_type": "code",
   "execution_count": null,
   "id": "5a2be00a-d6c0-4609-95c7-a2a15c054e1c",
   "metadata": {},
   "outputs": [],
   "source": [
    "new_list = [1, 3, 5, \"go\", True, 3.5]\n",
    "print (new_list)"
   ]
  },
  {
   "cell_type": "code",
   "execution_count": null,
   "id": "d49565b2-e52b-4996-a63e-a167be49d6cf",
   "metadata": {},
   "outputs": [],
   "source": [
    "new_tuple = (False, \"stop\", 7.7, (6, 5, 9))\n",
    "print(new_tuple)"
   ]
  },
  {
   "cell_type": "markdown",
   "id": "0158206e-36e4-4721-97d2-686a25289a6f",
   "metadata": {},
   "source": [
    "# 4. Dictionary"
   ]
  },
  {
   "cell_type": "code",
   "execution_count": null,
   "id": "32f6ad43-603f-4593-9e5d-8e3f2fc1ae79",
   "metadata": {},
   "outputs": [],
   "source": [
    "# create dictionary\n",
    "person_info = {'name': 'Rahul', 'age': 18, 'is_student': True, 'grades': ['A', 'B', 'A', 'B']}\n",
    "# print dictionary\n",
    "print (person_info)"
   ]
  },
  {
   "cell_type": "code",
   "execution_count": null,
   "id": "9612f410-00f1-44d7-ba03-6bbe370e3403",
   "metadata": {},
   "outputs": [],
   "source": [
    "#iterating through dictionary\n",
    "for key, value in person_info.items():\n",
    "    print(f\"{key}: {value}\")"
   ]
  },
  {
   "cell_type": "code",
   "execution_count": null,
   "id": "79621f7b-8bd1-4c70-a9b6-bc4d9c335f11",
   "metadata": {},
   "outputs": [],
   "source": [
    "# add new key to the dictionary\n",
    "person_info.update({'name': 'Rahul', 'age': 18, 'is_student': True, 'grades': ['A', 'B', 'A', 'B'], 'city':\"Fremont\"})\n",
    "# print updated dictonary\n",
    "print(person_info)"
   ]
  },
  {
   "cell_type": "code",
   "execution_count": null,
   "id": "8ec1aa86-1d83-4522-ba4e-9c14ffec60a6",
   "metadata": {},
   "outputs": [],
   "source": [
    "# checking if key exists \n",
    "print('city' in person_info)\n"
   ]
  },
  {
   "cell_type": "code",
   "execution_count": null,
   "id": "0082830c-b231-4788-9268-7f759d3c3fb9",
   "metadata": {},
   "outputs": [],
   "source": [
    "# Get length of dictionary\n",
    "print(f\"The length of the dictionary is: {len(person_info)}\")"
   ]
  },
  {
   "cell_type": "code",
   "execution_count": null,
   "id": "0f1ac40a-1990-479d-b69c-7c1efdf01d61",
   "metadata": {},
   "outputs": [],
   "source": [
    "# clear the dictionary\n",
    "person_info.clear()\n",
    "print(len(person_info))"
   ]
  },
  {
   "cell_type": "code",
   "execution_count": 14,
   "id": "e000be46-51d3-4312-97f0-3bf08abddff2",
   "metadata": {},
   "outputs": [],
   "source": [
    "# delete dictionary object\n",
    "del person_info\n"
   ]
  },
  {
   "cell_type": "markdown",
   "id": "f6c9c851-e423-49aa-bf91-ab0ad9d42775",
   "metadata": {},
   "source": [
    "# 5. Conditional Statements"
   ]
  },
  {
   "cell_type": "code",
   "execution_count": 15,
   "id": "37379497-32ba-49da-a402-212abd7d51e2",
   "metadata": {},
   "outputs": [],
   "source": [
    "# initialize variables\n",
    "num = -3\n",
    "my_list = [5, 6, 7, 8, 9, 10]\n",
    "condition = True"
   ]
  },
  {
   "cell_type": "code",
   "execution_count": null,
   "id": "161e0f2b-f6fb-43ed-9534-7b17a9a4b771",
   "metadata": {},
   "outputs": [],
   "source": [
    "# conditional statement\n",
    "if num % 2 == 0:\n",
    "    print(f\"The number {num} is even\")\n",
    "elif num > 0:\n",
    "    print(f\"The number {num} is odd & positive\")\n",
    "else:\n",
    "    print(f\"The number {num} is negative.\")\n"
   ]
  },
  {
   "cell_type": "code",
   "execution_count": null,
   "id": "bf066a0d-ebfb-440e-acda-87d5c25394a8",
   "metadata": {},
   "outputs": [],
   "source": [
    "# loop through the list\n",
    "for a in my_list:\n",
    "    squared_a = a ** 2\n",
    "    print(f\"The square of {a} is {squared_a}\")"
   ]
  },
  {
   "cell_type": "markdown",
   "id": "c98fed5c-b3a6-4791-b30d-0fa6d9c5db34",
   "metadata": {},
   "source": [
    "# while loop\n",
    "while condition: \n",
    "    print(\"Inside the while loop\")\n",
    "    condition = False # exits the loop "
   ]
  },
  {
   "cell_type": "markdown",
   "id": "3538549b-77a4-41de-92ee-3f57866599c3",
   "metadata": {},
   "source": [
    "# 6. Functions"
   ]
  },
  {
   "cell_type": "code",
   "execution_count": 18,
   "id": "945e70e3-3668-4688-8964-c606c6c881e1",
   "metadata": {},
   "outputs": [],
   "source": [
    "# define function with default arguments\n",
    "def greet_user(name=\"Guest\", greeting=\"Hello\"):\n",
    "    return f\"{greeting}, {name}!\"\n"
   ]
  },
  {
   "cell_type": "code",
   "execution_count": null,
   "id": "09691804-3571-4a2f-aa3a-f7b76bedcf40",
   "metadata": {},
   "outputs": [],
   "source": [
    "greet_user() # no argument\n"
   ]
  },
  {
   "cell_type": "code",
   "execution_count": null,
   "id": "5b02d4de-4d43-4a3b-8872-e98f3ab45494",
   "metadata": {},
   "outputs": [],
   "source": [
    "greet_user(name='Harish') # 1 argument\n"
   ]
  },
  {
   "cell_type": "code",
   "execution_count": null,
   "id": "115db4e6-99dc-4105-992d-0cd474971e57",
   "metadata": {},
   "outputs": [],
   "source": [
    "\n",
    "greet_user(name='Rahul', greeting='Hola')"
   ]
  },
  {
   "cell_type": "markdown",
   "metadata": {},
   "source": [
    "# 7. Classes and Objects"
   ]
  },
  {
   "cell_type": "code",
   "execution_count": null,
   "id": "8c466e87-dd70-4c6a-8f58-f3478a295ae8",
   "metadata": {},
   "outputs": [],
   "source": [
    "# Define a Car class\n",
    "class Car: \n",
    "    def __init__(self, make, model, year):\n",
    "        self.make = make\n",
    "        self.model = model\n",
    "        self.year = year\n",
    "        \n",
    "    def display_info(self):\n",
    "        print(f\"{self.year} {self.make} {self.model}\")\n",
    "        \n",
    "# create instances of the Car class\n",
    "car1 = Car(\"Ford\", \"Mustang\", 2024)\n",
    "car2 = Car(\"Porsche\", \"911\", 2023)    \n",
    "\n",
    "# invoke the display_info method for each car\n",
    "car1.display_info()\n",
    "car2.display_info()\n"
   ]
  },
  {
   "cell_type": "markdown",
   "metadata": {},
   "source": [
    "# User Input\n"
   ]
  },
  {
   "cell_type": "code",
   "execution_count": null,
   "metadata": {},
   "outputs": [],
   "source": [
    "# How to access User Input until the user quits?\n",
    "while True:\n",
    "    name_input = input('Enter your name (type quit to exit): ')\n",
    "    \n",
    "    if name_input.lower() == 'quit':\n",
    "        print(\"Goodbye\")\n",
    "        break\n",
    "\n",
    "    if not name_input.isalpha():\n",
    "        print(\"Please enter a name using alphabet\")\n",
    "        continue\n",
    "\n",
    "    age_input = input('Enter your age (type quit to exit): ')\n",
    "\n",
    "    if age_input.lower() == 'quit':\n",
    "        print(\"Goodbye\")\n",
    "        break\n",
    "\n",
    "    if age_input.isdigit():\n",
    "        age = int(age_input)\n",
    "        print(\"Your name is \" + name_input + \" and your age is \" + str(age) + ' years old')\n",
    "        end = input('Do you want to continue?(Y/N)')\n",
    "        if end.islower() == 'Y':\n",
    "            continue\n",
    "        else: \n",
    "            print(\"Goodbye\")\n",
    "            break\n",
    "    else:\n",
    "        print(\"Please enter a valid integer for age.\")"
   ]
  },
  {
   "cell_type": "markdown",
   "metadata": {},
   "source": [
    "# 8. File Processing"
   ]
  },
  {
   "cell_type": "markdown",
   "metadata": {},
   "source": [
    "# 9. Exception Handling"
   ]
  },
  {
   "cell_type": "markdown",
   "metadata": {},
   "source": [
    "# 10. Dictionary Operations"
   ]
  },
  {
   "cell_type": "markdown",
   "metadata": {},
   "source": [
    "# 11. File Writing & Reading\n"
   ]
  },
  {
   "cell_type": "markdown",
   "metadata": {},
   "source": [
    "# 12. Python Exceptions"
   ]
  },
  {
   "cell_type": "markdown",
   "metadata": {},
   "source": [
    "# 13. Set Operations\n"
   ]
  },
  {
   "cell_type": "code",
   "execution_count": null,
   "metadata": {},
   "outputs": [],
   "source": []
  }
 ],
 "metadata": {
  "kernelspec": {
   "display_name": "Python 3 (ipykernel)",
   "language": "python",
   "name": "python3"
  },
  "language_info": {
   "codemirror_mode": {
    "name": "ipython",
    "version": 3
   },
   "file_extension": ".py",
   "mimetype": "text/x-python",
   "name": "python",
   "nbconvert_exporter": "python",
   "pygments_lexer": "ipython3",
   "version": "3.9.6"
  }
 },
 "nbformat": 4,
 "nbformat_minor": 5
}
