{
 "cells": [
  {
   "cell_type": "markdown",
   "id": "59887abf-7a17-4aec-96a7-deeb8f080076",
   "metadata": {},
   "source": [
    "#<div align=\"center\">Python 40 Practice Questions for Beginners"
   ]
  },
  {
   "cell_type": "markdown",
   "id": "e775bda3-1d73-4aa6-9bfc-669a3de14e9d",
   "metadata": {},
   "source": [
    "# 1. User's age and year they were born in"
   ]
  },
  {
   "cell_type": "code",
   "execution_count": null,
   "id": "9778a2f9-ab00-4e45-b317-3fb4a952d13b",
   "metadata": {
    "scrolled": true
   },
   "outputs": [],
   "source": [
    "# given an age, this program prints my age and birth year\n",
    "from datetime import datetime\n",
    "\n",
    "\n",
    "age = int(input(\"Enter your age: \"))\n",
    "current_year = datetime.now().year\n",
    "birth_year = current_year - age\n",
    "print(f\"My age is {age} and I was born in {birth_year}\")\n"
   ]
  },
  {
   "cell_type": "markdown",
   "id": "28e386d7-d938-4823-95cf-054f67620c5d",
   "metadata": {},
   "source": [
    "# 3. Repeating pattern"
   ]
  },
  {
   "cell_type": "code",
   "execution_count": null,
   "id": "12a38c9d-3325-4476-83fa-d5bca4bd40c3",
   "metadata": {},
   "outputs": [],
   "source": [
    "pattern = input(\"Enter your pattern: \")\n",
    "num = int(input(\"Enter a number: \"))\n",
    "\n",
    "\n",
    "print(num * pattern, end='')          \n",
    "\n"
   ]
  },
  {
   "cell_type": "code",
   "execution_count": null,
   "id": "74422f4a-6f7f-4c7e-8b65-d76b21a64017",
   "metadata": {},
   "outputs": [],
   "source": [
    "for number in range(5):\n",
    "    print(number)"
   ]
  },
  {
   "cell_type": "markdown",
   "id": "9440c4a2-226b-485c-8406-f2c121b779a2",
   "metadata": {},
   "source": [
    "# 4. Area of circle"
   ]
  },
  {
   "cell_type": "markdown",
   "id": "909bac9c-96c9-4f05-8c57-0eb6d5c9c9e1",
   "metadata": {},
   "source": [
    "radius = float(input(\"Enter a value for the radius: \"))\n",
    "pi = 3.14159\n",
    "area = pi * (radius**2)\n",
    "print(f\"Radius of the circle is: {area:.2f}\")"
   ]
  },
  {
   "cell_type": "markdown",
   "id": "0aae141d-a5a8-4e74-82c1-5382fff0b7b4",
   "metadata": {},
   "source": [
    "# 5. Adding numbers"
   ]
  },
  {
   "cell_type": "code",
   "execution_count": null,
   "id": "472b1602-5a75-40fe-a04b-8bb0aaf1d1d1",
   "metadata": {},
   "outputs": [],
   "source": [
    "def add(a,b,c):\n",
    "    total = a + b + c\n",
    "    return total\n",
    "\n",
    "num_a = int(input(\"Enter number a: \"))\n",
    "num_b = int(input(\"Enter number b: \"))\n",
    "num_c = int(input(\"Enter number c: \"))\n",
    "a = num_a\n",
    "b = num_b\n",
    "c = num_c\n",
    "\n",
    "result=add(a,b,c)\n",
    "\n",
    "print(f\"The sum of a b and c is: {result}\")\n",
    "    "
   ]
  },
  {
   "cell_type": "markdown",
   "id": "45a57c61-d812-4ac5-9974-13f744a06c9f",
   "metadata": {},
   "source": [
    "# 6. Larger than 10"
   ]
  },
  {
   "cell_type": "code",
   "execution_count": null,
   "id": "0ae6a289-3850-4eb9-b7e7-6163eeed6b14",
   "metadata": {},
   "outputs": [],
   "source": [
    "def larger10(number):\n",
    "    if number > 10:\n",
    "        return True\n",
    "    \n",
    "    else:\n",
    "        return False\n",
    "number = int(input(\"Enter a number: \"))\n",
    "result = larger10(number)\n",
    "print(result)"
   ]
  },
  {
   "cell_type": "markdown",
   "id": "739f94d0-f1e1-4ce9-a123-ebb7b34fced0",
   "metadata": {},
   "source": [
    "# 7. Area or circumference of a circle"
   ]
  },
  {
   "cell_type": "code",
   "execution_count": null,
   "id": "49f9bf97-28a6-460b-87c6-2b200b4b9bc6",
   "metadata": {},
   "outputs": [],
   "source": [
    "def calculate(mode, radius):\n",
    "    pi = 3.14\n",
    "    if mode == \"area\":\n",
    "        area = pi * radius**2\n",
    "        print(f\"The area is {area}\")\n",
    "\n",
    "    elif mode == \"circumference\":\n",
    "        result = 2 * pi * radius\n",
    "        print(f\"The circumference is {result}\")\n",
    "\n",
    "    else:\n",
    "        return 0\n",
    "\n",
    "\n",
    "mode = input(\"Select a mode(area/circumference): \")\n",
    "radius = int(input(\"Enter a value for radius: \"))\n",
    "\n",
    "final = calculate(mode, radius)"
   ]
  },
  {
   "cell_type": "markdown",
   "id": "dd307fe2-2e9f-4c2c-bc50-86a0c75bc1b3",
   "metadata": {},
   "source": [
    "# 8. Larger and largest"
   ]
  },
  {
   "cell_type": "code",
   "execution_count": null,
   "id": "d9dda641-57aa-4439-8d92-2d264b2d98eb",
   "metadata": {},
   "outputs": [],
   "source": [
    "def larger(a, b):\n",
    "    if a > b:\n",
    "        return a\n",
    "    else:\n",
    "        return b\n",
    "\n",
    "a = int(input(\"Enter a number: \"))\n",
    "b = int(input(\"Enter another number: \"))\n",
    "print(larger(a,b))"
   ]
  },
  {
   "cell_type": "markdown",
   "id": "8bbc9a0f-9fea-49da-89a8-3377045d5c5e",
   "metadata": {},
   "source": [
    "# 9. Scholarship eligibility"
   ]
  },
  {
   "cell_type": "code",
   "execution_count": null,
   "id": "9fcf1f7e-6962-444c-a2d0-d85e9ae232e4",
   "metadata": {},
   "outputs": [],
   "source": [
    "def eligible(engl, math, sci):\n",
    "    return engl > 80 and math > 80 and sci > 80\n",
    "      \n",
    "\n",
    "english = int(input(\"Enter your english score: \"))\n",
    "maths = int(input(\"Enter your math score: \"))\n",
    "science = int(input(\"Enter your science score: \"))\n",
    "\n",
    "\n",
    "result = eligible(english, maths, science)\n",
    "\n",
    "if (result == True):\n",
    "    print(\"You are eligible\")\n",
    "else:\n",
    "    print(\"You are ineligible\")"
   ]
  },
  {
   "cell_type": "markdown",
   "id": "f9380ef7-58f6-46db-9b05-78af12750595",
   "metadata": {},
   "source": [
    "# 10. Part II"
   ]
  },
  {
   "cell_type": "code",
   "execution_count": null,
   "id": "718330ce-005a-4067-b321-15eb0a1cba76",
   "metadata": {},
   "outputs": [],
   "source": [
    "# write the function that validates if the parameters fall under the criteria\n",
    "def eligible(engl, math, sci, conduct):\n",
    "    return engl > 80 and math > 80 and sci > 80 and conduct.lower() == \"excellent\"\n",
    "\n",
    "# write a formula to calculate the average of 3 scores\n",
    "average = (english + maths + science) / 3\n",
    "\n",
    "# get the user input\n",
    "english = int(input(\"Enter your english score: \"))\n",
    "maths = int(input(\"Enter your math score: \"))\n",
    "science = int(input(\"Enter your science score: \"))\n",
    "conduct = input(\"What is your conduct like?: \")\n",
    "# print(average)\n",
    "\n",
    "# call the function and print the result\n",
    "result = eligible(english, maths, science, conduct)\n",
    "# print(result)\n",
    "\n",
    "# check the eligibility based on the user input\n",
    "if (result == True and average > 85):\n",
    "    print(\"You are eligible\")\n",
    "else:\n",
    "    print(\"You are ineligible\")"
   ]
  },
  {
   "cell_type": "markdown",
   "id": "6b234d47-877f-434e-8d43-ccae9ced331d",
   "metadata": {},
   "source": [
    "# Loops - For and While loops"
   ]
  },
  {
   "cell_type": "markdown",
   "id": "051f9987-6d90-47e6-8cf0-b4431ff5f51a",
   "metadata": {},
   "source": [
    "# 11. Printing odd numbers"
   ]
  },
  {
   "cell_type": "code",
   "execution_count": null,
   "id": "656b15ca-3cd2-468f-8475-89ca0416d406",
   "metadata": {},
   "outputs": [],
   "source": [
    "def odd(start, end):\n",
    "    for number in range(start, end + 1):\n",
    "        if number % 2 == 1:\n",
    "            print(number, end = \"  \")\n",
    "    \n",
    "\n",
    "odd(1, 25)\n"
   ]
  },
  {
   "cell_type": "markdown",
   "id": "406c325c-9129-4da1-a76f-015321cba393",
   "metadata": {},
   "source": [
    "# 12. Printing even numbers backwards"
   ]
  },
  {
   "cell_type": "code",
   "execution_count": null,
   "id": "663fc55a-72ba-4939-9455-23c6d217a40c",
   "metadata": {},
   "outputs": [],
   "source": [
    "# create a function to create an even number list and reverse its order\n",
    "def even_backwards(start, end):\n",
    "    evenlist = [] #empty list \n",
    "    \n",
    "    for number in range(start, end + 1):\n",
    "        # checking for even numbers\n",
    "        if number % 2 == 0:\n",
    "            # inserting the even numbers into an empty list\n",
    "            evenlist.append(number)\n",
    "    # reversing the order of the lists items\n",
    "    evenlist.reverse()\n",
    "    return evenlist\n",
    "\n",
    "#calling the function\n",
    "reversed_list = even_backwards(1, 22)\n",
    "print(f\"The list in descending order is: {reversed_list}\")"
   ]
  },
  {
   "cell_type": "markdown",
   "id": "6eb5c8dd-aeec-4347-b298-246024ef57cf",
   "metadata": {},
   "source": [
    "# 13. Pyramid of stars"
   ]
  },
  {
   "cell_type": "code",
   "execution_count": null,
   "id": "a9cee333-2eab-4f8f-943a-0f2b7a597820",
   "metadata": {},
   "outputs": [],
   "source": [
    "def pyramid(n):\n",
    "    for n1 in range(1, n + 1):\n",
    "        print(\"#\" * n1)\n",
    "        \n",
    "\n",
    "pyramid(60)"
   ]
  },
  {
   "cell_type": "markdown",
   "id": "b405f66c-ffb8-4704-993d-2a0ddcc15cc9",
   "metadata": {},
   "source": [
    "# 14. Thousands"
   ]
  },
  {
   "cell_type": "code",
   "execution_count": null,
   "id": "25bbea14-80f4-4e06-8b5e-7ca7af630bcb",
   "metadata": {},
   "outputs": [],
   "source": [
    "# write a function using a for loop that prints the thousands from 1000 to n * 1000\n",
    "def thousands(n):\n",
    "    for number in range(1, n + 1):\n",
    "        print(number * 1000)\n",
    "        \n",
    "\n",
    "thousands(5)"
   ]
  },
  {
   "cell_type": "code",
   "execution_count": null,
   "id": "402ef4db-4fd8-48c2-aed8-2224257c3efb",
   "metadata": {},
   "outputs": [],
   "source": [
    "# write a function using while loops that prints the thousands from 1000 to n * 1000\n",
    "def thousands(n):\n",
    "    number = 1\n",
    "    while number <= n:\n",
    "        print(number * 1000)\n",
    "        number += 1\n",
    "        \n",
    "\n",
    "thousands(5)\n"
   ]
  },
  {
   "cell_type": "markdown",
   "id": "f28f7bd9-039c-4d3e-8136-19bff90c95c1",
   "metadata": {},
   "source": [
    "# 15. Squares and cubes"
   ]
  },
  {
   "cell_type": "code",
   "execution_count": null,
   "id": "52ff1983-ff60-43d4-a2c2-ca86058afced",
   "metadata": {},
   "outputs": [],
   "source": [
    "# Write a function squares_cubes(start, end) that takes in 2 integers, \n",
    "# start & end, and prints the number itself, squares and cubes of all numbers between start and end (inclusive)."
   ]
  },
  {
   "cell_type": "code",
   "execution_count": null,
   "id": "7140b5ae-2f7b-46fa-8e78-c1a9d966047f",
   "metadata": {},
   "outputs": [],
   "source": [
    "def squares_cubes(start, end):\n",
    "    for num in range(start, end + 1):\n",
    "        square = num ** 2\n",
    "        cube = num ** 3\n",
    "        print(f\"{num}, {square}, {cube}\")\n",
    "\n",
    "squares_cubes(1, 3)"
   ]
  },
  {
   "cell_type": "markdown",
   "id": "74187608-62a8-4ffe-81b8-67f6075cd041",
   "metadata": {},
   "source": [
    "# 16. Summation from 1"
   ]
  },
  {
   "cell_type": "code",
   "execution_count": null,
   "id": "9bf83874-a3ac-43ac-8c6b-b4f8bd6620f9",
   "metadata": {},
   "outputs": [],
   "source": [
    "# Write a function summation(n) that takes in an integer n, and returns the sum of all numbers from 1 to n. \n",
    "# Assume n is a positive integer."
   ]
  },
  {
   "cell_type": "code",
   "execution_count": null,
   "id": "09bcc380-4e8d-4ef7-a459-ae775fbd5d08",
   "metadata": {},
   "outputs": [],
   "source": [
    "def summation(n):\n",
    "    sum_result = 0\n",
    "    for i in range(1, int(n)+ 1):\n",
    "        sum_result += i\n",
    "    return sum_result\n",
    "\n",
    "n = float(input(\"Enter a positive integer: \"))\n",
    "\n",
    "\n",
    "result = summation(n)\n",
    "print(f\"The summation of all numbers from 1 to n is: {result}\")"
   ]
  },
  {
   "cell_type": "markdown",
   "id": "01f3e513-09d1-4976-b552-ca96b3878e22",
   "metadata": {},
   "source": [
    "# 17. Factorial"
   ]
  },
  {
   "cell_type": "code",
   "execution_count": null,
   "id": "7a46cd20-d128-498e-af67-b3a21d8c46d7",
   "metadata": {},
   "outputs": [],
   "source": [
    "# Write a function factorial(n) that takes in an integer n, and returns the factorial of n. \n",
    "# The factorial of a number is 1 x 2 x 3 x ... x n"
   ]
  },
  {
   "cell_type": "code",
   "execution_count": null,
   "id": "bbd50689-ce18-48ac-99ad-9934ce2ef29f",
   "metadata": {},
   "outputs": [],
   "source": [
    "def factorial(n):\n",
    "    if n == 0 or n == 1:\n",
    "        return 1\n",
    "    else:\n",
    "        result = 1\n",
    "        for i in range(2, n + 1):\n",
    "            result *= i\n",
    "        return result\n",
    "\n",
    "n = int(input(\"Enter a number: \"))\n",
    "result = factorial(n)\n",
    "print(f\"The factorial of {n} is {result}\")"
   ]
  },
  {
   "cell_type": "markdown",
   "id": "9c5c6535-a3fe-4069-9358-c8104fc5f2d8",
   "metadata": {},
   "source": [
    "# 18. Summation of odd numbers"
   ]
  },
  {
   "cell_type": "code",
   "execution_count": null,
   "id": "4e142f30-cce0-4c89-a898-f5229719bdea",
   "metadata": {},
   "outputs": [],
   "source": [
    "# Write a function sum_odd(start, end) that takes in 2 integers start & end, \n",
    "# and returns the sum of all odd numbers between start and end (inclusive)"
   ]
  },
  {
   "cell_type": "code",
   "execution_count": null,
   "id": "f545edf0-baa7-43ad-b8e4-91c0f58ce0be",
   "metadata": {},
   "outputs": [],
   "source": [
    "def sum_odd(start, end):\n",
    "    sum_result = 0\n",
    "    for number in range(start, end + 1):\n",
    "        if number % 2 != 0:\n",
    "            sum_result += number\n",
    "    return sum_result\n",
    "\n",
    "start = int(input(\"Enter the start value: \"))\n",
    "end = int(input(\"Enter the end value: \"))\n",
    "result = sum_odd(start, end)\n",
    "print(f\"The sum of the odd numbers between {start} and {end} is {result}\")"
   ]
  },
  {
   "cell_type": "markdown",
   "id": "77597455-9ced-4e32-b0d1-bf6fe23cf7f4",
   "metadata": {},
   "source": [
    "# 19. Printing triangular numbers"
   ]
  },
  {
   "cell_type": "code",
   "execution_count": null,
   "id": "d05aa187-b847-4fa5-8ce9-204eed1b84cc",
   "metadata": {},
   "outputs": [],
   "source": [
    "# Triangular numbers are derived by the summing all integers from 1 to n. Here are the first 6 triangular numbers:"
   ]
  },
  {
   "cell_type": "code",
   "execution_count": null,
   "id": "7c560285-ec4b-47a9-9c04-2eaa4b735751",
   "metadata": {},
   "outputs": [],
   "source": [
    "def triangular(number):\n",
    "    for i in range(1, number + 1):\n",
    "        triangular_number = (i * (i + 1)) // 2\n",
    "        print(f\"The {i}th triangular number is {triangular_number}\")\n",
    "\n",
    "number = int(input(\"Enter the number of triangular numbers to print: \"))\n",
    "triangular(number)"
   ]
  },
  {
   "cell_type": "markdown",
   "id": "bf7ab636-5fa3-4e3e-8021-2c7fee7196c1",
   "metadata": {},
   "source": [
    "# 20. Sum to 100000"
   ]
  },
  {
   "cell_type": "code",
   "execution_count": null,
   "id": "c9693027-d196-47b3-8c5d-c8c26af15a56",
   "metadata": {},
   "outputs": [],
   "source": [
    "# Write a Python script to find 1 + 2 + 3 + ... + 99,998 + 99,999 + 100,000. \n",
    "# Do this using a for or while loop, and try not to hardcode this."
   ]
  },
  {
   "cell_type": "code",
   "execution_count": null,
   "id": "0ca9fe41-f35d-4e8b-85f7-22c81fd89827",
   "metadata": {},
   "outputs": [],
   "source": [
    "# initialize variables\n",
    "sum = 0\n",
    "num = 1\n",
    "\n",
    "while num <= 100000:\n",
    "    sum += num\n",
    "    num += 1\n",
    "\n",
    "print(f\"The sum of numbers from 1 to 100,000 is {sum}\")\n"
   ]
  },
  {
   "cell_type": "markdown",
   "id": "dc4262bd-9da5-470f-b146-a0532cd92c61",
   "metadata": {},
   "source": [
    "# 21. Summation of string of numbers "
   ]
  },
  {
   "cell_type": "code",
   "execution_count": null,
   "id": "f3856e8b-2d69-4437-928b-8279db8d4d75",
   "metadata": {},
   "outputs": [],
   "source": [
    "# Write a function summation(numbers_string) that takes in \n",
    "# a string of numbers numbers_string separated by spaces, and returns the sum of the numbers\n",
    "\n",
    "def summation(numbers_string):\n",
    "    numbers = numbers_string.split()\n",
    "    total = sum(map(int, numbers))\n",
    "    return total\n",
    "\n",
    "\n",
    "input_value = '1 2 3'\n",
    "result = summation(input_value)\n",
    "print(result)\n"
   ]
  },
  {
   "cell_type": "code",
   "execution_count": null,
   "id": "772ead04-571d-4e88-8585-009541a71218",
   "metadata": {},
   "outputs": [],
   "source": [
    "# returns sum of squared numbers \n",
    "# in this case i wrote my own function and called from the map() function\n",
    "# in this case, the map() function converts from the integers to the sum of the numbers and the squared numbers\n",
    "def my_square(num):\n",
    "    return num**2    \n",
    "def summation(numbers_string):\n",
    "    # split() splits the string to integers \n",
    "    numbers = map(int, numbers_string.split()) \n",
    "    total = sum(map(my_square, numbers)) # square the integers\n",
    "    return total\n",
    "\n",
    "input_value = '1 2 3'\n",
    "result = summation(input_value)\n",
    "print(result)"
   ]
  },
  {
   "cell_type": "markdown",
   "id": "bd87f8a7-80e6-43d9-ba6f-8b8827154872",
   "metadata": {},
   "source": [
    "# 22. Printing words in a sentence"
   ]
  },
  {
   "cell_type": "code",
   "execution_count": null,
   "id": "4e0523ee-ac79-4ac9-937f-0e5294a6910b",
   "metadata": {},
   "outputs": [],
   "source": [
    "# Write a function print_words(sentence) that takes in a string sentence, and prints individual words within the sentence line by line. \n",
    "# Here, we can assume that individual words in a sentence are separated by a space character.\n",
    "# Write a function print_words(sentence) that takes in a string sentence, and prints individual words within the sentence line by line. \n",
    "# Here, we can assume that individual words in a sentence are separated by a space character."
   ]
  },
  {
   "cell_type": "code",
   "execution_count": null,
   "id": "38ac178d-bbc1-41a7-8fba-86479540a3b6",
   "metadata": {},
   "outputs": [],
   "source": [
    "def print_words(sentence):\n",
    "    words = sentence.split()\n",
    "\n",
    "    for word in words:\n",
    "        print(word)\n",
    "\n",
    "sentence = input(\"Enter a sentence: \")\n",
    "print_words(sentence)"
   ]
  },
  {
   "cell_type": "markdown",
   "id": "429df12f-2dfe-44cf-a829-3cb801a21eef",
   "metadata": {},
   "source": [
    "# 23. Removing vowels"
   ]
  },
  {
   "cell_type": "code",
   "execution_count": null,
   "id": "ecd3e0f4-9fff-44ef-9ec9-cf6556a7d1d9",
   "metadata": {},
   "outputs": [],
   "source": [
    "# Write a function remove_vowels(string) that takes in a string, and returns a version of the original string but with vowels removed. \n",
    "# Vowels refer to a, e, i, o or u."
   ]
  },
  {
   "cell_type": "code",
   "execution_count": null,
   "id": "4a03a0e5-3abe-431b-b18b-66fff0439c56",
   "metadata": {},
   "outputs": [],
   "source": [
    "def remove_vowels(string):\n",
    "    vowels = \"aeiouAEIOU\" \n",
    "\n",
    "    result = string\n",
    "    for vowel in vowels:\n",
    "        result = result.replace(vowel, ' ')\n",
    "\n",
    "    return result\n",
    "\n",
    "original_string = input(\"Enter a phrase: \")\n",
    "result = remove_vowels(original_string)\n",
    "print(result)"
   ]
  },
  {
   "cell_type": "markdown",
   "id": "c48520a6-4fac-4227-b238-dfc3c113bdcd",
   "metadata": {},
   "source": [
    "# 24. String pyramid"
   ]
  },
  {
   "cell_type": "code",
   "execution_count": null,
   "id": "c863974d-5e15-437c-becf-860da2e41dcd",
   "metadata": {},
   "outputs": [],
   "source": [
    "# Write a function pyramid(string) that takes in a string, and prints this pattern:\n",
    "pyramid(\"abcde\")\n",
    "a\n",
    "ab\n",
    "abc\n",
    "abcd\n",
    "abcde"
   ]
  },
  {
   "cell_type": "code",
   "execution_count": null,
   "id": "0b3fb1cc-697b-445c-ab1d-193574359a68",
   "metadata": {},
   "outputs": [],
   "source": [
    "def pyramid(string):\n",
    "    for i in range(1, len(string) + 1):\n",
    "        print(string[:i])\n",
    "        \n",
    "\n",
    "pyramid(\"Allamraju\")"
   ]
  },
  {
   "cell_type": "markdown",
   "id": "04cc6da5-697d-40d1-9989-79cb4049fb19",
   "metadata": {},
   "source": [
    "# 25. Alternate letters"
   ]
  },
  {
   "cell_type": "code",
   "execution_count": null,
   "id": "f0adc90b-eae9-46fd-8680-4fbaad13945a",
   "metadata": {},
   "outputs": [],
   "source": [
    "# Write a function alternate_letters(string) that takes in a string, \n",
    "# and returns a new string with only the characters at the odd positions - 1st, 3rd, 5th etc letters"
   ]
  },
  {
   "cell_type": "code",
   "execution_count": null,
   "id": "5111e19a-1b28-446c-b91d-4c4a5d1efa7f",
   "metadata": {},
   "outputs": [],
   "source": [
    "def alternate_letter(input):\n",
    "    # method uses slicing\n",
    "    result = input[::2]\n",
    "    return result\n",
    "    \n",
    "original = input('Enter a phrase: ')\n",
    "result = alternate_letter(original)\n",
    "print(result)"
   ]
  },
  {
   "cell_type": "markdown",
   "id": "2cdf09a0-c2e9-4965-8561-00d101d944b3",
   "metadata": {},
   "source": [
    "# 26. Sum/product of list of integers"
   ]
  },
  {
   "cell_type": "code",
   "execution_count": null,
   "id": "b6e00614-4383-4196-a18f-d5590701fb52",
   "metadata": {},
   "outputs": [],
   "source": [
    "# Write a function sum_list(lis) that takes in a list of integers lis, and returns the sum of all integers inside the list.\n",
    "def sum_list(lis):\n",
    "    return sum(lis) # in one line\n",
    "    \"\"\"\n",
    "    result = 0\n",
    "    for n in lis:\n",
    "        result += n\n",
    "    return result\n",
    "    \"\"\"\n",
    "\n",
    "# defining a list of integers\n",
    "my_list = [1, 2, 3, 4, 5]\n",
    "result = sum_list(my_list)\n",
    "print(f\"The sum of {my_list} is {result}\")\n",
    "\n"
   ]
  },
  {
   "cell_type": "code",
   "execution_count": null,
   "id": "2dc2f6a1-0014-4e8a-b736-c3faaafad6ab",
   "metadata": {},
   "outputs": [],
   "source": [
    "def sum_list(lis):\n",
    "    return sum(list(map(int, user_list.split(' '))))\n",
    "\n",
    "user_list = input(\"Enter  list of numbers: \")\n",
    "int_list = sum_list(user_list)\n",
    "\n",
    "print(f\"The sum of the list is: {int_list}\")\n"
   ]
  },
  {
   "cell_type": "code",
   "execution_count": null,
   "id": "3c431e50-c1f5-4523-9396-8d7ec581299e",
   "metadata": {},
   "outputs": [],
   "source": [
    "# Using the same logic, write another function product_list(lis) that takes in a list of integers lis, and returns the product of all integers inside the list.\n",
    "def prod_list(lis):\n",
    "    result = 1\n",
    "    for x in lis:\n",
    "        result *= x\n",
    "    return result\n",
    "\n",
    "my_list = [1, 2, 3, 4, 5]\n",
    "result = prod_list(my_list)\n",
    "print(f\"The product of {my_list} is {result}\")"
   ]
  },
  {
   "cell_type": "markdown",
   "id": "beb3b5c5-4671-408f-b9da-1e56251930fa",
   "metadata": {},
   "source": [
    "# 27. Converting list of strings to list of integers "
   ]
  },
  {
   "cell_type": "code",
   "execution_count": null,
   "id": "2b0b696c-b46f-48cd-91d0-8f85c8c7cdae",
   "metadata": {},
   "outputs": [],
   "source": [
    "# Write a function convert_int(lis) that takes in a list of number strings lis, \n",
    "#and returns a new list with all the number strings converted into integers.\n",
    "\n",
    "def convert_int(lis):\n",
    "    # isdigit() is checking if the elements in the list are all digits\n",
    "    return [int(num_str) for num_str in lis if num_str.isdigit()]\n",
    "\n",
    "strings = ['1', '2', '3', '4', '5']\n",
    "integers = convert_int(strings)\n",
    "\n",
    "print(f\"The integers of the string in a list is: \",integers)"
   ]
  },
  {
   "cell_type": "code",
   "execution_count": null,
   "id": "ad717ba4-2fb0-4ede-9a15-09c08b31de27",
   "metadata": {
    "scrolled": true
   },
   "outputs": [],
   "source": [
    "def convert_int(lis):\n",
    "    return list(map(int, lis.split(' ')))\n",
    "\n",
    "int_list = input(\"Enter a list of numbers: \")\n",
    "result = convert_int(int_list)\n",
    "print(f\"The integer list is {result}\")"
   ]
  },
  {
   "cell_type": "markdown",
   "id": "d2d4ad45-c17f-4c76-9fe6-1c64a452af43",
   "metadata": {},
   "source": [
    "# 28. Arithmetic mean"
   ]
  },
  {
   "cell_type": "code",
   "execution_count": null,
   "id": "3f7e64f8-7449-440d-b026-a7e70219a09d",
   "metadata": {},
   "outputs": [],
   "source": [
    "# Write a function mean(lis) that takes in a list of numbers, and returns the arithmetic mean of the numbers – (sum of all numbers / number of numbers)\n",
    "def mean(lis):\n",
    "    mean = sum(lis)/len(lis)\n",
    "    return mean\n",
    "\n",
    "list = [5, 10, 15, 20]\n",
    "result = mean(list)\n",
    "print(f\"The mean of the numbers in the list is: {result}\")"
   ]
  },
  {
   "cell_type": "markdown",
   "id": "044e273e-929c-4d31-842c-7bd09bf39c79",
   "metadata": {},
   "source": [
    "# 29. Median"
   ]
  },
  {
   "cell_type": "code",
   "execution_count": null,
   "id": "d7a269c7-9bae-4f3b-83ef-5519991a3fb3",
   "metadata": {},
   "outputs": [],
   "source": [
    "# Write a function median(lis) that takes in a list of numbers (int or float) lis, and returns the median of the numbers\n",
    "# ● To find the median, first sort the list from smallest to largest\n",
    "# ● If the list has an odd number of elements, the median is the number in the middle\n",
    "# ● If the list has an even number of elements, the median is the average of the 2 middle numbers \n",
    "def median(lis):\n",
    "    # sorted() sorts list from smallest to largest\n",
    "    ordered_list = sorted(lis)\n",
    "    n = len(ordered_list)\n",
    "    # odd number elements \n",
    "    if n % 2 == 1:\n",
    "        # return the middle number in the list\n",
    "        return ordered_list[n // 2]\n",
    "    else:\n",
    "        # Even number of elements, return the average of the two middle numbers\n",
    "        middle1 = ordered_list[n // 2 - 1]\n",
    "        middle2 = ordered_list[n // 2]\n",
    "        return (middle1 + middle2) / 2\n",
    "\n",
    "numbered_odd = [1, 5, 8, 9, 4]\n",
    "result1 = median(numbered_odd)\n",
    "print(f\"The median of {numbered_odd} is {result1}\")\n",
    "\n",
    "numbered_even = [2, 5, 7, 9]\n",
    "result2 = median(numbered_even)\n",
    "print(f\"The median of {numbered_even} is {result2}\")"
   ]
  },
  {
   "cell_type": "code",
   "execution_count": null,
   "id": "7e4275f5-1187-4315-ad6c-bd42dab515c9",
   "metadata": {
    "scrolled": true
   },
   "outputs": [],
   "source": [
    "# mode\n",
    "from statistics import mode\n",
    "\n",
    "def mode(list):\n",
    "    return statistics.mode(list)\n",
    "\n",
    "user_list = [1, 3, 3, 4]\n",
    "result = mode(user_list)\n",
    "print(result)"
   ]
  },
  {
   "cell_type": "markdown",
   "id": "ae60f5b7-0620-4605-a193-6c4e8799d72d",
   "metadata": {},
   "source": [
    "# 30. filtering numbers divisible b\n"
   ]
  },
  {
   "cell_type": "code",
   "execution_count": null,
   "id": "11eb8511-a0d5-4ae9-9de5-0c3702dc4aa2",
   "metadata": {},
   "outputs": [],
   "source": [
    "# Write a function filter3(lis) that takes in a list of integers, \n",
    "# and returns a new list containing only numbers from the original list that are divisible by 3\n",
    "\n",
    "def filter3(lis):\n",
    "    return [num for num in lis if num % 3 == 0]\n",
    "\n",
    "numbers = [1, 3, 4, 5, 6, 7, 9]\n",
    "result = filter3(numbers)\n",
    "\n",
    "print(f\"The original list is {numbers}\")\n",
    "print(f\"The filtered list with numbers divisible by 3 is {result}\")"
   ]
  }
 ],
 "metadata": {
  "kernelspec": {
   "display_name": "Python 3 (ipykernel)",
   "language": "python",
   "name": "python3"
  },
  "language_info": {
   "codemirror_mode": {
    "name": "ipython",
    "version": 3
   },
   "file_extension": ".py",
   "mimetype": "text/x-python",
   "name": "python",
   "nbconvert_exporter": "python",
   "pygments_lexer": "ipython3",
   "version": "3.8.18"
  }
 },
 "nbformat": 4,
 "nbformat_minor": 5
}
